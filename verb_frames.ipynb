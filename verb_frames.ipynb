{
 "cells": [
  {
   "cell_type": "code",
   "execution_count": 132,
   "metadata": {},
   "outputs": [
    {
     "name": "stdout",
     "output_type": "stream",
     "text": [
      "The autoreload extension is already loaded. To reload it, use:\n",
      "  %reload_ext autoreload\n"
     ]
    }
   ],
   "source": [
    "from collections import defaultdict, Counter\n",
    "from pathlib import Path\n",
    "%load_ext autoreload\n",
    "%autoreload 2\n",
    "\n",
    "import pandas as pd\n",
    "import numpy as np\n",
    "\n",
    "from dep_tregex.conll import read_trees_conll\n",
    "from dep_tregex.tree_script import parse_pattern\n",
    "from dep_tregex.tree_pattern import *"
   ]
  },
  {
   "cell_type": "markdown",
   "metadata": {},
   "source": [
    "## Data prep"
   ]
  },
  {
   "cell_type": "code",
   "execution_count": 2,
   "metadata": {},
   "outputs": [],
   "source": [
    "speaker = \"MOT\""
   ]
  },
  {
   "cell_type": "code",
   "execution_count": 3,
   "metadata": {},
   "outputs": [],
   "source": [
    "vb_tags = [\"cop\", \"v\"]\n",
    "vb_pattern = And([IsTop(), AttrMatches(\"cpostags\", lambda tag: tag in vb_tags)])"
   ]
  },
  {
   "cell_type": "code",
   "execution_count": 4,
   "metadata": {},
   "outputs": [],
   "source": [
    "matches = defaultdict(list)"
   ]
  },
  {
   "cell_type": "code",
   "execution_count": 5,
   "metadata": {},
   "outputs": [],
   "source": [
    "for path in Path(f\"data_conllu/{speaker}\").glob(\"*.conllu\"):\n",
    "    with path.open(\"r\", encoding=\"utf-8\") as f:\n",
    "        for i, tree in enumerate(read_trees_conll(f)):\n",
    "            source_name = f\"{path}:{i}\" \n",
    "            for node in range(1, len(tree) + 1):\n",
    "                if vb_pattern.match(tree, node, {}):\n",
    "                    # fetch immediate children\n",
    "                    lemma = tree.forms(node).split(\"-\")[0]\n",
    "                    children_desc = [(tree.deprels(child), tree.forms(child)) \n",
    "                                     for child in tree.children(node)]\n",
    "                    matches[lemma].append((source_name, children_desc))"
   ]
  },
  {
   "cell_type": "code",
   "execution_count": 6,
   "metadata": {},
   "outputs": [],
   "source": [
    "# accumulate by deprel sequence\n",
    "matches_grouped = defaultdict(Counter)\n",
    "for verb, v_matches in matches.items():\n",
    "    for source_name, v_match in v_matches:\n",
    "        deprel_seq = tuple(deprel for deprel, _ in v_match)\n",
    "        matches_grouped[verb][deprel_seq] += 1"
   ]
  },
  {
   "cell_type": "code",
   "execution_count": 7,
   "metadata": {},
   "outputs": [
    {
     "data": {
      "text/plain": [
       "[(('SUBJ', 'OBJ', 'JCT'), 3),\n",
       " (('SUBJ', 'OBJ'), 1),\n",
       " (('LINK', 'SUBJ', 'AUX', 'OBJ'), 1),\n",
       " (('COM', 'SUBJ', 'AUX', 'COMP'), 1),\n",
       " (('AUX', 'OBJ', 'JCT', 'JCT'), 1),\n",
       " (('AUX', 'OBJ', 'JCT'), 1),\n",
       " (('SUBJ', 'OBJ', 'JCT', 'JCT'), 1),\n",
       " (('COM', 'SUBJ', 'OBJ', 'JCT'), 1),\n",
       " (('SUBJ', 'JCT', 'JCT'), 1),\n",
       " (('SUBJ', 'AUX', 'OBJ'), 1)]"
      ]
     },
     "execution_count": 7,
     "metadata": {},
     "output_type": "execute_result"
    }
   ],
   "source": [
    "matches_grouped[\"throw\"].most_common(10)"
   ]
  },
  {
   "cell_type": "code",
   "execution_count": 8,
   "metadata": {},
   "outputs": [],
   "source": [
    "import json\n",
    "matches_grouped_json = {vb: {\" \".join(seq): count for seq, count in v_grouped.items()}\n",
    "                        for vb, v_grouped in matches_grouped.items()}\n",
    "with open(f\"verb_frames_{speaker}.json\", \"w\") as out_f:\n",
    "    json.dump({\"matches\": matches, \"matches_grouped\": matches_grouped_json}, out_f)"
   ]
  },
  {
   "cell_type": "markdown",
   "metadata": {},
   "source": [
    "## Data analysis"
   ]
  },
  {
   "cell_type": "code",
   "execution_count": 9,
   "metadata": {},
   "outputs": [],
   "source": [
    "verbs_of_interest = set([\n",
    "    ## lineland\n",
    "    # agent-agent-object\n",
    "    \"give\", \"find\",\n",
    "    # agent-agent\n",
    "    \"pull\", \"push\", \"take\", \"find\",\n",
    "    # agent-object\n",
    "    \"pull\", \"push\", \"find\", \"get\", \"have\", \"hit\", \"knock\", \"play\",\n",
    "    # object-object\n",
    "    \"push\", \"knock\",\n",
    "    # agent\n",
    "    \"go\", \"come\", \"shake\",\n",
    "    # object\n",
    "    \"fall\", \"go\", \"come\",\n",
    "    \n",
    "    ## requires upright agent with legs\n",
    "    # agent-object\n",
    "    \"sit\",\n",
    "    # agent\n",
    "    \"sit\",\n",
    "    \n",
    "    ## requires agent with arms\n",
    "    # agent-agent\n",
    "    \"hit\",\n",
    "    # agent-object\n",
    "    \"put\", \"set\", \"throw\", \"hold\", \"hit\", \"catch\", \"shake\",\n",
    "    # agent\n",
    "    \"knock\", \"shake\",\n",
    "    \n",
    "    ## landscapes / obstructions\n",
    "    \"fit\",\n",
    "    \n",
    "    ## affordances\n",
    "    \"open\", \"close\",\n",
    "    \n",
    "    ## deformations\n",
    "    \"break\", \"tear\",\n",
    "    \n",
    "    ## other\n",
    "    \"ride\",\n",
    "])"
   ]
  },
  {
   "cell_type": "code",
   "execution_count": 32,
   "metadata": {},
   "outputs": [],
   "source": [
    "count_dfs = {verb: pd.DataFrame.from_dict(matches, orient=\"index\", columns=[verb]).T\n",
    "             for verb, matches in matches_grouped_json.items()\n",
    "             if verb in verbs_of_interest}"
   ]
  },
  {
   "cell_type": "code",
   "execution_count": 34,
   "metadata": {},
   "outputs": [
    {
     "data": {
      "text/html": [
       "<div>\n",
       "<style scoped>\n",
       "    .dataframe tbody tr th:only-of-type {\n",
       "        vertical-align: middle;\n",
       "    }\n",
       "\n",
       "    .dataframe tbody tr th {\n",
       "        vertical-align: top;\n",
       "    }\n",
       "\n",
       "    .dataframe thead th {\n",
       "        text-align: right;\n",
       "    }\n",
       "</style>\n",
       "<table border=\"1\" class=\"dataframe\">\n",
       "  <thead>\n",
       "    <tr style=\"text-align: right;\">\n",
       "      <th></th>\n",
       "      <th>AUX SUBJ OBJ</th>\n",
       "    </tr>\n",
       "  </thead>\n",
       "  <tbody>\n",
       "    <tr>\n",
       "      <th>ride</th>\n",
       "      <td>1</td>\n",
       "    </tr>\n",
       "  </tbody>\n",
       "</table>\n",
       "</div>"
      ],
      "text/plain": [
       "      AUX SUBJ OBJ\n",
       "ride             1"
      ]
     },
     "execution_count": 34,
     "metadata": {},
     "output_type": "execute_result"
    }
   ],
   "source": [
    "count_dfs[\"ride\"]"
   ]
  },
  {
   "cell_type": "code",
   "execution_count": 35,
   "metadata": {},
   "outputs": [],
   "source": [
    "count_df = pd.concat(count_dfs.values(), sort=True).fillna(0.)"
   ]
  },
  {
   "cell_type": "code",
   "execution_count": 36,
   "metadata": {},
   "outputs": [],
   "source": [
    "# Drop extremely rare frames.\n",
    "rare_frames = count_df.columns[count_df.sum(axis=0) < 10]\n",
    "count_df.drop(columns=rare_frames, inplace=True)"
   ]
  },
  {
   "cell_type": "code",
   "execution_count": 37,
   "metadata": {},
   "outputs": [],
   "source": [
    "count_df.to_csv(f\"verb_frames_{speaker}_matrix.csv\")"
   ]
  },
  {
   "cell_type": "code",
   "execution_count": 39,
   "metadata": {},
   "outputs": [],
   "source": [
    "from scipy.spatial import distance"
   ]
  },
  {
   "cell_type": "code",
   "execution_count": 116,
   "metadata": {},
   "outputs": [],
   "source": [
    "count_df_norm = count_df.div(count_df.sum(axis=1), axis=0)\n",
    "distances = distance.pdist(count_df_norm, metric=\"euclidean\")"
   ]
  },
  {
   "cell_type": "code",
   "execution_count": 117,
   "metadata": {},
   "outputs": [],
   "source": [
    "def smallest_n(a, n):\n",
    "    return np.sort(np.partition(a, n)[:n])\n",
    "\n",
    "def argsmallest_n(a, n):\n",
    "    ret = np.argpartition(a, n)[:n]\n",
    "    b = np.take(a, ret)\n",
    "    return np.take(ret, np.argsort(b))"
   ]
  },
  {
   "cell_type": "code",
   "execution_count": 135,
   "metadata": {},
   "outputs": [],
   "source": [
    "closest = argsmallest_n(distances, len(distances) - 1)"
   ]
  },
  {
   "cell_type": "code",
   "execution_count": 136,
   "metadata": {},
   "outputs": [],
   "source": [
    "tu = np.triu_indices(len(count_df_norm), 1)\n",
    "pairs = np.column_stack((np.take(tu[0], closest),\n",
    "                         np.take(tu[1], closest)))"
   ]
  },
  {
   "cell_type": "code",
   "execution_count": 137,
   "metadata": {},
   "outputs": [
    {
     "data": {
      "text/plain": [
       "0.06652641155398875"
      ]
     },
     "execution_count": 137,
     "metadata": {},
     "output_type": "execute_result"
    }
   ],
   "source": [
    "subs = count_df_norm.iloc[pairs[0]]\n",
    "subs = subs.loc[:, (subs != 0).any(axis=0)]\n",
    "subs.iloc[0].dot(subs.iloc[1])"
   ]
  },
  {
   "cell_type": "code",
   "execution_count": 138,
   "metadata": {},
   "outputs": [
    {
     "data": {
      "text/plain": [
       "[(('have', 'find'), 0.035862728317655836),\n",
       " (('get', 'hold'), 0.04409430819720581),\n",
       " (('come', 'sit'), 0.044587315786083694),\n",
       " (('have', 'open'), 0.04515221202659484),\n",
       " (('find', 'open'), 0.045661828060165825),\n",
       " (('get', 'find'), 0.04875096405861477),\n",
       " (('have', 'get'), 0.05623534447883092),\n",
       " (('take', 'get'), 0.05958764792899409),\n",
       " (('take', 'push'), 0.06548816568047339),\n",
       " (('get', 'push'), 0.0671646942800789),\n",
       " (('take', 'open'), 0.06804079515297798),\n",
       " (('take', 'hold'), 0.06812083997808004),\n",
       " (('get', 'break'), 0.06917324128862591),\n",
       " (('get', 'open'), 0.07053411448872908),\n",
       " (('take', 'find'), 0.07139614088536582),\n",
       " (('push', 'hold'), 0.07220256677072492),\n",
       " (('put', 'set'), 0.07859789086127547),\n",
       " (('break', 'hold'), 0.08051797895710487),\n",
       " (('have', 'hold'), 0.08682131689647112),\n",
       " (('break', 'push'), 0.08888888888888889),\n",
       " (('find', 'hold'), 0.09115707283910249),\n",
       " (('come', 'pull'), 0.09257545186124509),\n",
       " (('sit', 'pull'), 0.09283744403681157),\n",
       " (('hold', 'open'), 0.09573361082206033),\n",
       " (('have', 'break'), 0.09804208354671348),\n",
       " (('push', 'open'), 0.09842525147415887),\n",
       " (('have', 'push'), 0.10073700340544751),\n",
       " (('have', 'take'), 0.10128315918058581),\n",
       " (('take', 'close'), 0.10137758875739644),\n",
       " (('find', 'push'), 0.10431584640346134),\n",
       " (('put', 'take'), 0.10667777251808024),\n",
       " (('fit', 'fall'), 0.11241199877563515),\n",
       " (('take', 'break'), 0.11300953320184091),\n",
       " (('break', 'find'), 0.11403160867736312),\n",
       " (('break', 'throw'), 0.1182736455463728),\n",
       " (('get', 'throw'), 0.12076079514890706),\n",
       " (('get', 'play'), 0.12175910706893614),\n",
       " (('break', 'open'), 0.13684819054225922),\n",
       " (('knock', 'throw'), 0.1371288644015917),\n",
       " (('find', 'throw'), 0.13749670360123184),\n",
       " (('get', 'close'), 0.14069434171597633),\n",
       " (('close', 'open'), 0.14094205254942765),\n",
       " (('play', 'fit'), 0.14505322586130664),\n",
       " (('take', 'throw'), 0.14752249498752995),\n",
       " (('put', 'push'), 0.14799644444444446),\n",
       " (('play', 'fall'), 0.14814814814814814),\n",
       " (('hold', 'throw'), 0.15213147461752136),\n",
       " (('put', 'hold'), 0.15391657393918373),\n",
       " (('play', 'find'), 0.15447567031005524),\n",
       " (('push', 'close'), 0.15697916666666667),\n",
       " (('take', 'pull'), 0.15717455621301774),\n",
       " (('have', 'throw'), 0.15783359726132123),\n",
       " (('take', 'play'), 0.15948784912460123),\n",
       " (('go', 'get'), 0.16359799675820288),\n",
       " (('play', 'open'), 0.1644334819268337),\n",
       " (('have', 'play'), 0.16455380037084538),\n",
       " (('hold', 'close'), 0.16552581945889697),\n",
       " (('find', 'close'), 0.17090741617090316),\n",
       " (('take', 'set'), 0.17270710059171596),\n",
       " (('play', 'hold'), 0.17692047464275465),\n",
       " (('take', 'give'), 0.17717790451306942),\n",
       " (('put', 'get'), 0.17725173701512165),\n",
       " (('break', 'catch'), 0.1777777777777778),\n",
       " (('go', 'play'), 0.18060090316865748),\n",
       " (('open', 'throw'), 0.18070020037667375),\n",
       " (('get', 'pull'), 0.18250739644970412),\n",
       " (('play', 'break'), 0.18353909465020576),\n",
       " (('put', 'break'), 0.1846186666666667),\n",
       " (('open', 'pull'), 0.18704012708655304),\n",
       " (('take', 'go'), 0.19119062438996287),\n",
       " (('go', 'find'), 0.19226608977825851),\n",
       " (('set', 'pull'), 0.19526627218934914),\n",
       " (('get', 'catch'), 0.1957544378698225),\n",
       " (('play', 'push'), 0.19736625514403291),\n",
       " (('get', 'fall'), 0.19917680254218711),\n",
       " (('hold', 'set'), 0.1993362436810768),\n",
       " (('sit', 'get'), 0.2004818048943537),\n",
       " (('put', 'open'), 0.2011285059544456),\n",
       " (('have', 'close'), 0.2022312474967271),\n",
       " (('give', 'get'), 0.2037378829961248),\n",
       " (('get', 'fit'), 0.20503447601349695),\n",
       " (('play', 'throw'), 0.2059653776825494),\n",
       " (('have', 'go'), 0.20650442851640202),\n",
       " (('open', 'set'), 0.20670036759046606),\n",
       " (('break', 'knock'), 0.20740740740740743),\n",
       " (('go', 'open'), 0.20784190796386268),\n",
       " (('find', 'pull'), 0.20834226720984633),\n",
       " (('open', 'fit'), 0.2089593312751008),\n",
       " (('hold', 'catch'), 0.21069719042663893),\n",
       " (('put', 'find'), 0.21157223916831927),\n",
       " (('hold', 'pull'), 0.21193406769329284),\n",
       " (('push', 'throw'), 0.21201101928374658),\n",
       " (('put', 'pull'), 0.21208901512163048),\n",
       " (('push', 'catch'), 0.21333333333333337),\n",
       " (('give', 'break'), 0.21364667078952795),\n",
       " (('push', 'set'), 0.21428007889546355),\n",
       " (('open', 'fall'), 0.21504412841561643),\n",
       " (('push', 'pull'), 0.2154635108481262),\n",
       " (('go', 'push'), 0.2159707950243375),\n",
       " (('get', 'set'), 0.21597633136094677),\n",
       " (('go', 'fall'), 0.21629809907257175),\n",
       " (('go', 'hold'), 0.2163904160586283),\n",
       " (('go', 'break'), 0.22374857280211527),\n",
       " (('have', 'pull'), 0.22376493027764746),\n",
       " (('sit', 'go'), 0.22380457065720558),\n",
       " (('sit', 'play'), 0.2260055369179998),\n",
       " (('go', 'pull'), 0.22773424624217153),\n",
       " (('have', 'put'), 0.22839028023239677),\n",
       " (('find', 'fall'), 0.2295785509684915),\n",
       " (('give', 'find'), 0.22968841403516513),\n",
       " (('break', 'close'), 0.23142361111111112),\n",
       " (('push', 'fall'), 0.23296296296296298),\n",
       " (('give', 'hold'), 0.23421026721160507),\n",
       " (('take', 'knock'), 0.23423460442691207),\n",
       " (('find', 'fit'), 0.23436389560584453),\n",
       " (('have', 'fall'), 0.2347214279277694),\n",
       " (('give', 'open'), 0.23512922338550404),\n",
       " (('find', 'set'), 0.23792806602641442),\n",
       " (('take', 'fall'), 0.23815198334429102),\n",
       " (('close', 'pull'), 0.23821190828402364),\n",
       " (('take', 'fit'), 0.23922624578218982),\n",
       " (('give', 'push'), 0.24158317872603585),\n",
       " (('get', 'knock'), 0.24253506465044924),\n",
       " (('have', 'fit'), 0.2446003535101846),\n",
       " (('have', 'set'), 0.24563961380363816),\n",
       " (('break', 'pull'), 0.24760026298487833),\n",
       " (('have', 'catch'), 0.24834906534513787),\n",
       " (('put', 'play'), 0.24922442798353908),\n",
       " (('go', 'fit'), 0.25267846367703783),\n",
       " (('have', 'give'), 0.252859455409143),\n",
       " (('play', 'pull'), 0.25412131395037374),\n",
       " (('sit', 'take'), 0.25516721418934935),\n",
       " (('go', 'throw'), 0.2551770222009663),\n",
       " (('put', 'give'), 0.2555859723768295),\n",
       " (('sit', 'fall'), 0.25653369209718796),\n",
       " (('break', 'set'), 0.25667324128862595),\n",
       " (('sit', 'find'), 0.257042692037498),\n",
       " (('hold', 'fall'), 0.25978918564766645),\n",
       " (('play', 'close'), 0.2614133230452675),\n",
       " (('hold', 'fit'), 0.2625020424660951),\n",
       " (('break', 'fall'), 0.26481481481481484),\n",
       " (('push', 'fit'), 0.2649035812672177),\n",
       " (('break', 'fit'), 0.2681359044995409),\n",
       " (('give', 'play'), 0.2687265703138719),\n",
       " (('find', 'knock'), 0.26941489894437437),\n",
       " (('hold', 'knock'), 0.27024318803715264),\n",
       " (('have', 'sit'), 0.27074229601174626),\n",
       " (('put', 'go'), 0.2721419164713659),\n",
       " (('put', 'throw'), 0.27325190817263545),\n",
       " (('sit', 'open'), 0.2740879818331457),\n",
       " (('find', 'catch'), 0.28292049756625204),\n",
       " (('go', 'close'), 0.28561469037317466),\n",
       " (('play', 'set'), 0.2865561156159447),\n",
       " (('sit', 'hold'), 0.286899176202495),\n",
       " (('play', 'catch'), 0.2882304526748971),\n",
       " (('sit', 'push'), 0.2899805560465645),\n",
       " (('set', 'throw'), 0.2916524035405154),\n",
       " (('sit', 'break'), 0.29181193516437576),\n",
       " (('fall', 'throw'), 0.2928527701254974),\n",
       " (('come', 'get'), 0.29292396254222003),\n",
       " (('close', 'fall'), 0.29369212962962965),\n",
       " (('pull', 'throw'), 0.2970316396889823),\n",
       " (('go', 'set'), 0.2973468786902244),\n",
       " (('fit', 'throw'), 0.2975206611570248),\n",
       " (('come', 'go'), 0.2985879258942426),\n",
       " (('sit', 'set'), 0.2986891879635459),\n",
       " (('have', 'knock'), 0.2997626304995342),\n",
       " (('open', 'catch'), 0.3014360041623309),\n",
       " (('open', 'tear'), 0.3031564342698578),\n",
       " (('sit', 'fit'), 0.3034329419429887),\n",
       " (('give', 'close'), 0.3047744666048237),\n",
       " (('fall', 'pull'), 0.3050076703922858),\n",
       " (('give', 'throw'), 0.3066284364985664),\n",
       " (('give', 'go'), 0.3078791524476451),\n",
       " (('give', 'pull'), 0.307955780483253),\n",
       " (('give', 'set'), 0.31056855232679415),\n",
       " (('have', 'tear'), 0.3108103530386993),\n",
       " (('break', 'tear'), 0.3111111111111111),\n",
       " (('close', 'throw'), 0.3130810950413223),\n",
       " (('put', 'close'), 0.31322005555555554),\n",
       " (('sit', 'throw'), 0.3161411108868818),\n",
       " (('find', 'tear'), 0.31764917973679463),\n",
       " (('sit', 'close'), 0.3176799907199313),\n",
       " (('close', 'fit'), 0.31824638429752067),\n",
       " (('push', 'tear'), 0.32000000000000006),\n",
       " (('play', 'knock'), 0.3251028806584362),\n",
       " (('take', 'catch'), 0.32548816568047345),\n",
       " (('put', 'fall'), 0.32575940740740744),\n",
       " (('put', 'fit'), 0.3271141671258035),\n",
       " (('put', 'knock'), 0.33087051851851845),\n",
       " (('fit', 'pull'), 0.334539586287838),\n",
       " (('put', 'sit'), 0.33988476151836794),\n",
       " (('come', 'take'), 0.3425566473280989),\n",
       " (('get', 'tear'), 0.343318540433925),\n",
       " (('come', 'play'), 0.3436976981450152),\n",
       " (('give', 'fit'), 0.34440883791533144),\n",
       " (('give', 'fall'), 0.3447914519343091),\n",
       " (('come', 'find'), 0.3459790947349351),\n",
       " (('throw', 'catch'), 0.3477685950413223),\n",
       " (('push', 'knock'), 0.3496296296296296),\n",
       " (('pull', 'knock'), 0.35130396668858205),\n",
       " (('fall', 'set'), 0.3559609905763752),\n",
       " (('sit', 'knock'), 0.35754802301101635),\n",
       " (('open', 'knock'), 0.3581146182602998),\n",
       " (('have', 'come'), 0.3589659032405519),\n",
       " (('go', 'knock'), 0.3627235943352763),\n",
       " (('fit', 'set'), 0.3641253851044061),\n",
       " (('come', 'open'), 0.3658779980276457),\n",
       " (('take', 'tear'), 0.3660009861932938),\n",
       " (('sit', 'give'), 0.3672060154400067),\n",
       " (('knock', 'shake'), 0.3703703703703704),\n",
       " (('come', 'hold'), 0.37311622092399316),\n",
       " (('close', 'catch'), 0.3753125),\n",
       " (('come', 'break'), 0.3778275718982411),\n",
       " (('come', 'push'), 0.3794848223690509),\n",
       " (('come', 'fall'), 0.380508048985498),\n",
       " (('go', 'catch'), 0.38294753921038405),\n",
       " (('close', 'set'), 0.3831823224852071),\n",
       " (('come', 'close'), 0.3876221811261132),\n",
       " (('come', 'set'), 0.39412995993465794),\n",
       " (('fit', 'catch'), 0.40066115702479344),\n",
       " (('come', 'throw'), 0.4099241929625046),\n",
       " (('fall', 'knock'), 0.4104938271604938),\n",
       " (('throw', 'tear'), 0.4132231404958677),\n",
       " (('fall', 'catch'), 0.41518518518518527),\n",
       " (('play', 'tear'), 0.4156378600823044),\n",
       " (('fit', 'knock'), 0.416284052647689),\n",
       " (('come', 'knock'), 0.4187064168448828),\n",
       " (('come', 'fit'), 0.41905712474566764),\n",
       " (('give', 'knock'), 0.4206692778121349),\n",
       " (('hold', 'tear'), 0.42317030870620886),\n",
       " (('close', 'knock'), 0.42679398148148145),\n",
       " (('put', 'come'), 0.43712797114494545),\n",
       " (('put', 'catch'), 0.4431075555555556),\n",
       " (('give', 'catch'), 0.44660482374768096),\n",
       " (('set', 'knock'), 0.44926583388121855),\n",
       " (('go', 'tear'), 0.45100955471425985),\n",
       " (('sit', 'catch'), 0.4560107068003334),\n",
       " (('pull', 'catch'), 0.45751479289940833),\n",
       " (('come', 'give'), 0.45910160590835275),\n",
       " (('pull', 'tear'), 0.4595660749506903),\n",
       " (('fall', 'tear'), 0.4722222222222222),\n",
       " (('catch', 'tear'), 0.48000000000000004),\n",
       " (('set', 'catch'), 0.4871005917159764),\n",
       " (('set', 'tear'), 0.48915187376725844),\n",
       " (('fit', 'tear'), 0.49035812672176304),\n",
       " (('put', 'tear'), 0.4967964444444444),\n",
       " (('sit', 'tear'), 0.5153741908874355),\n",
       " (('give', 'tear'), 0.5207173778602352),\n",
       " (('close', 'tear'), 0.5286458333333333),\n",
       " (('come', 'catch'), 0.5318012065498419),\n",
       " (('knock', 'catch'), 0.5392592592592593),\n",
       " (('knock', 'tear'), 0.5925925925925926),\n",
       " (('throw', 'shake'), 0.5950413223140496),\n",
       " (('come', 'tear'), 0.6095413195441922),\n",
       " (('have', 'ride'), 0.7248282829490497),\n",
       " (('find', 'ride'), 0.7517577068685775),\n",
       " (('open', 'ride'), 0.7762747138397503),\n",
       " (('break', 'shake'), 0.8444444444444446),\n",
       " (('take', 'shake'), 0.9108727810650887),\n",
       " (('hold', 'shake'), 0.9177939646201873),\n",
       " (('get', 'shake'), 0.9282544378698224),\n",
       " (('get', 'ride'), 0.9763313609467453),\n",
       " (('find', 'shake'), 0.9843158464034614),\n",
       " (('take', 'ride'), 0.9877958579881656),\n",
       " (('have', 'shake'), 1.0328967426067515),\n",
       " (('play', 'shake'), 1.0452674897119343),\n",
       " (('take', 'hit'), 1.0454881656804738),\n",
       " (('hold', 'hit'), 1.0468262226847036),\n",
       " (('hold', 'ride'), 1.0468262226847036),\n",
       " (('get', 'hit'), 1.0484467455621302),\n",
       " (('set', 'ride'), 1.0532544378698225),\n",
       " (('close', 'ride'), 1.0703125),\n",
       " (('find', 'hit'), 1.0773391022174148),\n",
       " (('play', 'hit'), 1.0823045267489713),\n",
       " (('play', 'ride'), 1.0823045267489713),\n",
       " (('put', 'shake'), 1.085240888888889),\n",
       " (('have', 'hit'), 1.0866864736580961),\n",
       " (('open', 'hit'), 1.0988553590010408),\n",
       " (('open', 'shake'), 1.0988553590010406),\n",
       " (('pull', 'ride'), 1.1005917159763312),\n",
       " (('go', 'shake'), 1.1099242833964305),\n",
       " (('break', 'hit'), 1.111111111111111),\n",
       " (('break', 'ride'), 1.1111111111111112),\n",
       " (('go', 'ride'), 1.1157382368848026),\n",
       " (('push', 'shake'), 1.12),\n",
       " (('push', 'ride'), 1.12),\n",
       " (('push', 'hit'), 1.12),\n",
       " (('go', 'hit'), 1.133180097349919),\n",
       " (('give', 'shake'), 1.1354359925788498),\n",
       " (('give', 'ride'), 1.13543599257885),\n",
       " (('hit', 'throw'), 1.1404958677685948),\n",
       " (('throw', 'ride'), 1.1404958677685948),\n",
       " (('put', 'ride'), 1.1492408888888892),\n",
       " (('put', 'hit'), 1.1545742222222224),\n",
       " (('fit', 'hit'), 1.1570247933884297),\n",
       " (('fit', 'ride'), 1.15702479338843),\n",
       " (('fit', 'shake'), 1.1570247933884297),\n",
       " (('fall', 'ride'), 1.1574074074074074),\n",
       " (('fall', 'hit'), 1.1574074074074074),\n",
       " (('fall', 'shake'), 1.1574074074074074),\n",
       " (('pull', 'shake'), 1.1775147928994083),\n",
       " (('hit', 'pull'), 1.177514792899408),\n",
       " (('sit', 'ride'), 1.1820408575541022),\n",
       " (('sit', 'hit'), 1.182040857554102),\n",
       " (('sit', 'shake'), 1.1820408575541022),\n",
       " (('give', 'hit'), 1.187384044526902),\n",
       " (('close', 'hit'), 1.1953125),\n",
       " (('close', 'shake'), 1.1953125),\n",
       " (('hit', 'set'), 1.2071005917159763),\n",
       " (('set', 'shake'), 1.2071005917159763),\n",
       " (('hit', 'knock'), 1.2592592592592593),\n",
       " (('knock', 'ride'), 1.2592592592592593),\n",
       " (('come', 'hit'), 1.2762079862108588),\n",
       " (('come', 'ride'), 1.2762079862108588),\n",
       " (('come', 'shake'), 1.2762079862108588),\n",
       " (('hit', 'catch'), 1.2800000000000002),\n",
       " (('catch', 'shake'), 1.28),\n",
       " (('catch', 'ride'), 1.2800000000000002),\n",
       " (('hit', 'tear'), 1.3333333333333335),\n",
       " (('tear', 'shake'), 1.3333333333333333),\n",
       " (('tear', 'ride'), 1.3333333333333335),\n",
       " (('hit', 'shake'), 2.0),\n",
       " (('hit', 'ride'), 2.0)]"
      ]
     },
     "execution_count": 138,
     "metadata": {},
     "output_type": "execute_result"
    }
   ],
   "source": [
    "[(tuple(count_df_norm.iloc[pair].index), ((count_df_norm.iloc[pair[0]] - count_df_norm.iloc[pair[1]]) ** 2).sum()) for pair in pairs]"
   ]
  },
  {
   "cell_type": "code",
   "execution_count": null,
   "metadata": {},
   "outputs": [],
   "source": []
  }
 ],
 "metadata": {
  "kernelspec": {
   "display_name": "Python 3",
   "language": "python",
   "name": "python3"
  },
  "language_info": {
   "codemirror_mode": {
    "name": "ipython",
    "version": 3
   },
   "file_extension": ".py",
   "mimetype": "text/x-python",
   "name": "python",
   "nbconvert_exporter": "python",
   "pygments_lexer": "ipython3",
   "version": "3.6.8"
  }
 },
 "nbformat": 4,
 "nbformat_minor": 2
}

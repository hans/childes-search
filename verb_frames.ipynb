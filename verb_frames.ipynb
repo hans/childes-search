{
 "cells": [
  {
   "cell_type": "code",
   "execution_count": 37,
   "metadata": {},
   "outputs": [
    {
     "name": "stdout",
     "output_type": "stream",
     "text": [
      "The autoreload extension is already loaded. To reload it, use:\n",
      "  %reload_ext autoreload\n"
     ]
    }
   ],
   "source": [
    "from collections import defaultdict, Counter\n",
    "from pathlib import Path\n",
    "%load_ext autoreload\n",
    "%autoreload 2\n",
    "\n",
    "import pandas as pd\n",
    "\n",
    "from dep_tregex.conll import read_trees_conll\n",
    "from dep_tregex.tree_script import parse_pattern\n",
    "from dep_tregex.tree_pattern import *"
   ]
  },
  {
   "cell_type": "markdown",
   "metadata": {},
   "source": [
    "## Data prep"
   ]
  },
  {
   "cell_type": "code",
   "execution_count": 28,
   "metadata": {},
   "outputs": [],
   "source": [
    "speaker = \"MOT\""
   ]
  },
  {
   "cell_type": "code",
   "execution_count": 29,
   "metadata": {},
   "outputs": [],
   "source": [
    "vb_tags = [\"cop\", \"v\"]\n",
    "vb_pattern = And([IsTop(), AttrMatches(\"cpostags\", lambda tag: tag in vb_tags)])"
   ]
  },
  {
   "cell_type": "code",
   "execution_count": 30,
   "metadata": {},
   "outputs": [],
   "source": [
    "matches = defaultdict(list)"
   ]
  },
  {
   "cell_type": "code",
   "execution_count": 68,
   "metadata": {},
   "outputs": [],
   "source": [
    "for path in Path(f\"data_conllu/{speaker}\").glob(\"*.conllu\"):\n",
    "    with path.open(\"r\", encoding=\"utf-8\") as f:\n",
    "        for i, tree in enumerate(read_trees_conll(f)):\n",
    "            source_name = f\"{path}:{i}\" \n",
    "            for node in range(1, len(tree) + 1):\n",
    "                if vb_pattern.match(tree, node, {}):\n",
    "                    # fetch immediate children\n",
    "                    lemma = tree.forms(node).split(\"-\")[0]\n",
    "                    children_desc = [(tree.deprels(child), tree.forms(child)) \n",
    "                                     for child in tree.children(node)]\n",
    "                    matches[lemma].append((source_name, children_desc))"
   ]
  },
  {
   "cell_type": "code",
   "execution_count": 69,
   "metadata": {},
   "outputs": [],
   "source": [
    "# accumulate by deprel sequence\n",
    "matches_grouped = defaultdict(Counter)\n",
    "for verb, v_matches in matches.items():\n",
    "    for source_name, v_match in v_matches:\n",
    "        deprel_seq = tuple(deprel for deprel, _ in v_match)\n",
    "        matches_grouped[verb][deprel_seq] += 1"
   ]
  },
  {
   "cell_type": "code",
   "execution_count": 70,
   "metadata": {},
   "outputs": [
    {
     "data": {
      "text/plain": [
       "[(('SUBJ', 'OBJ', 'JCT'), 15),\n",
       " (('SUBJ', 'OBJ'), 5),\n",
       " (('LINK', 'SUBJ', 'AUX', 'OBJ'), 5),\n",
       " (('COM', 'SUBJ', 'AUX', 'COMP'), 5),\n",
       " (('AUX', 'OBJ', 'JCT', 'JCT'), 5),\n",
       " (('AUX', 'OBJ', 'JCT'), 5),\n",
       " (('SUBJ', 'OBJ', 'JCT', 'JCT'), 5),\n",
       " (('COM', 'SUBJ', 'OBJ', 'JCT'), 5),\n",
       " (('SUBJ', 'JCT', 'JCT'), 5),\n",
       " (('SUBJ', 'AUX', 'OBJ'), 5)]"
      ]
     },
     "execution_count": 70,
     "metadata": {},
     "output_type": "execute_result"
    }
   ],
   "source": [
    "matches_grouped[\"throw\"].most_common(10)"
   ]
  },
  {
   "cell_type": "code",
   "execution_count": 71,
   "metadata": {},
   "outputs": [],
   "source": [
    "import json\n",
    "matches_grouped_json = {vb: {\" \".join(seq): count for seq, count in v_grouped.items()}\n",
    "                        for vb, v_grouped in matches_grouped.items()}\n",
    "with open(f\"verb_frames_{speaker}.json\", \"w\") as out_f:\n",
    "    json.dump({\"matches\": matches, \"matches_grouped\": matches_grouped_json}, out_f)"
   ]
  },
  {
   "cell_type": "markdown",
   "metadata": {},
   "source": [
    "## Data analysis"
   ]
  },
  {
   "cell_type": "code",
   "execution_count": 72,
   "metadata": {},
   "outputs": [],
   "source": [
    "verbs_of_interest = set([\n",
    "    ## lineland\n",
    "    # agent-agent-object\n",
    "    \"give\", \"find\",\n",
    "    # agent-agent\n",
    "    \"pull\", \"push\", \"take\", \"find\",\n",
    "    # agent-object\n",
    "    \"pull\", \"push\", \"find\", \"get\", \"have\", \"hit\", \"knock\", \"play\",\n",
    "    # object-object\n",
    "    \"push\", \"knock\",\n",
    "    # agent\n",
    "    \"go\", \"come\", \"shake\",\n",
    "    # object\n",
    "    \"fall\", \"go\", \"come\",\n",
    "    \n",
    "    ## requires upright agent with legs\n",
    "    # agent-object\n",
    "    \"sit\",\n",
    "    # agent\n",
    "    \"sit\",\n",
    "    \n",
    "    ## requires agent with arms\n",
    "    # agent-agent\n",
    "    \"hit\",\n",
    "    # agent-object\n",
    "    \"put\", \"set\", \"throw\", \"hold\", \"hit\", \"catch\", \"shake\",\n",
    "    # agent\n",
    "    \"knock\", \"shake\",\n",
    "    \n",
    "    ## landscapes / obstructions\n",
    "    \"fit\",\n",
    "    \n",
    "    ## affordances\n",
    "    \"open\", \"close\",\n",
    "    \n",
    "    ## deformations\n",
    "    \"break\", \"tear\",\n",
    "    \n",
    "    ## other\n",
    "    \"ride\",\n",
    "])"
   ]
  },
  {
   "cell_type": "code",
   "execution_count": 73,
   "metadata": {},
   "outputs": [],
   "source": [
    "count_dfs = {verb: pd.DataFrame.from_dict(matches, orient=\"index\", columns=[verb]).T\n",
    "             for verb, matches in matches_grouped_json.items()}"
   ]
  },
  {
   "cell_type": "code",
   "execution_count": 74,
   "metadata": {},
   "outputs": [
    {
     "data": {
      "text/html": [
       "<div>\n",
       "<style scoped>\n",
       "    .dataframe tbody tr th:only-of-type {\n",
       "        vertical-align: middle;\n",
       "    }\n",
       "\n",
       "    .dataframe tbody tr th {\n",
       "        vertical-align: top;\n",
       "    }\n",
       "\n",
       "    .dataframe thead th {\n",
       "        text-align: right;\n",
       "    }\n",
       "</style>\n",
       "<table border=\"1\" class=\"dataframe\">\n",
       "  <thead>\n",
       "    <tr style=\"text-align: right;\">\n",
       "      <th></th>\n",
       "      <th>OBJ</th>\n",
       "      <th>SUBJ OBJ</th>\n",
       "      <th></th>\n",
       "      <th>AUX SUBJ</th>\n",
       "      <th>OBJ JCT JCT</th>\n",
       "      <th>COM SUBJ AUX OBJ</th>\n",
       "      <th>COMP</th>\n",
       "      <th>AUX SUBJ OBJ OBJ JCT</th>\n",
       "      <th>LINK SUBJ OBJ</th>\n",
       "      <th>LINK AUX SUBJ</th>\n",
       "      <th>...</th>\n",
       "      <th>LINK SUBJ AUX SUBJ</th>\n",
       "      <th>LINK AUX SUBJ OBJ JCT</th>\n",
       "      <th>AUX SUBJ OBJ JCT JCT</th>\n",
       "      <th>AUX SUBJ COMP</th>\n",
       "      <th>SUBJ AUX OBJ JCT COM</th>\n",
       "      <th>SUBJ AUX OBJ OBJ</th>\n",
       "      <th>JCT SUBJ AUX OBJ</th>\n",
       "      <th>LINK LINK AUX SUBJ OBJ</th>\n",
       "      <th>JCT CJCT</th>\n",
       "      <th>SUBJ AUX OBJ JCT JCT</th>\n",
       "    </tr>\n",
       "  </thead>\n",
       "  <tbody>\n",
       "    <tr>\n",
       "      <th>see</th>\n",
       "      <td>330</td>\n",
       "      <td>180</td>\n",
       "      <td>430</td>\n",
       "      <td>20</td>\n",
       "      <td>15</td>\n",
       "      <td>15</td>\n",
       "      <td>80</td>\n",
       "      <td>5</td>\n",
       "      <td>50</td>\n",
       "      <td>60</td>\n",
       "      <td>...</td>\n",
       "      <td>10</td>\n",
       "      <td>5</td>\n",
       "      <td>5</td>\n",
       "      <td>5</td>\n",
       "      <td>5</td>\n",
       "      <td>5</td>\n",
       "      <td>5</td>\n",
       "      <td>5</td>\n",
       "      <td>5</td>\n",
       "      <td>5</td>\n",
       "    </tr>\n",
       "  </tbody>\n",
       "</table>\n",
       "<p>1 rows × 90 columns</p>\n",
       "</div>"
      ],
      "text/plain": [
       "     OBJ  SUBJ OBJ       AUX SUBJ  OBJ JCT JCT  COM SUBJ AUX OBJ  COMP  \\\n",
       "see  330       180  430        20           15                15    80   \n",
       "\n",
       "     AUX SUBJ OBJ OBJ JCT  LINK SUBJ OBJ  LINK AUX SUBJ          ...           \\\n",
       "see                     5             50             60          ...            \n",
       "\n",
       "     LINK SUBJ AUX SUBJ  LINK AUX SUBJ OBJ JCT  AUX SUBJ OBJ JCT JCT  \\\n",
       "see                  10                      5                     5   \n",
       "\n",
       "     AUX SUBJ COMP  SUBJ AUX OBJ JCT COM  SUBJ AUX OBJ OBJ  JCT SUBJ AUX OBJ  \\\n",
       "see              5                     5                 5                 5   \n",
       "\n",
       "     LINK LINK AUX SUBJ OBJ  JCT CJCT  SUBJ AUX OBJ JCT JCT  \n",
       "see                       5         5                     5  \n",
       "\n",
       "[1 rows x 90 columns]"
      ]
     },
     "execution_count": 74,
     "metadata": {},
     "output_type": "execute_result"
    }
   ],
   "source": [
    "count_dfs[\"see\"]"
   ]
  },
  {
   "cell_type": "code",
   "execution_count": 75,
   "metadata": {},
   "outputs": [],
   "source": [
    "count_df = pd.concat(count_dfs.values(), sort=True).fillna(0.)"
   ]
  },
  {
   "cell_type": "code",
   "execution_count": 81,
   "metadata": {},
   "outputs": [],
   "source": [
    "# Drop extremely rare frames.\n",
    "rare_frames = count_df.columns[count_df.sum(axis=0) < 10]\n",
    "count_df.drop(columns=rare_frames, inplace=True)"
   ]
  },
  {
   "cell_type": "code",
   "execution_count": 82,
   "metadata": {},
   "outputs": [],
   "source": [
    "count_df.to_csv(f\"verb_frames_{speaker}_matrix.csv\")"
   ]
  },
  {
   "cell_type": "code",
   "execution_count": null,
   "metadata": {},
   "outputs": [],
   "source": []
  }
 ],
 "metadata": {
  "kernelspec": {
   "display_name": "Python 3",
   "language": "python",
   "name": "python3"
  },
  "language_info": {
   "codemirror_mode": {
    "name": "ipython",
    "version": 3
   },
   "file_extension": ".py",
   "mimetype": "text/x-python",
   "name": "python",
   "nbconvert_exporter": "python",
   "pygments_lexer": "ipython3",
   "version": "3.6.8"
  }
 },
 "nbformat": 4,
 "nbformat_minor": 2
}
